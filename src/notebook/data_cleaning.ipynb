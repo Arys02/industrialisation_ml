{
 "cells": [
  {
   "cell_type": "code",
   "id": "initial_id",
   "metadata": {
    "collapsed": true,
    "ExecuteTime": {
     "end_time": "2025-03-13T11:31:34.853506Z",
     "start_time": "2025-03-13T11:31:34.849974Z"
    }
   },
   "source": [
    "import pandas as pd\n",
    "import numpy as np\n",
    "\n",
    "from src.config import RAW_DATA_DIR\n"
   ],
   "outputs": [],
   "execution_count": 5
  },
  {
   "metadata": {
    "ExecuteTime": {
     "end_time": "2025-03-13T11:31:35.842007Z",
     "start_time": "2025-03-13T11:31:35.834645Z"
    }
   },
   "cell_type": "code",
   "source": "data = pd.read_csv(RAW_DATA_DIR / 'weekly_vegetable_sales.csv')",
   "id": "8657bcbe9adb7d1f",
   "outputs": [],
   "execution_count": 6
  },
  {
   "metadata": {
    "ExecuteTime": {
     "end_time": "2025-03-13T11:31:36.748861Z",
     "start_time": "2025-03-13T11:31:36.740284Z"
    }
   },
   "cell_type": "code",
   "source": "data",
   "id": "da93c55d1dc727",
   "outputs": [
    {
     "data": {
      "text/plain": [
       "     year_week        vegetable  sales\n",
       "0       202001           Tomate    489\n",
       "1       202001             Peer     95\n",
       "2       202001  Brussell Sprout     11\n",
       "3       202002           Tomato    505\n",
       "4       202002             Peer     99\n",
       "..         ...              ...    ...\n",
       "622     202352             Pear     98\n",
       "623     202352    Brusselsprout     11\n",
       "624     202001           tomato    100\n",
       "625     202001           tomato    100\n",
       "626     202002           tomato    100\n",
       "\n",
       "[627 rows x 3 columns]"
      ],
      "text/html": [
       "<div>\n",
       "<style scoped>\n",
       "    .dataframe tbody tr th:only-of-type {\n",
       "        vertical-align: middle;\n",
       "    }\n",
       "\n",
       "    .dataframe tbody tr th {\n",
       "        vertical-align: top;\n",
       "    }\n",
       "\n",
       "    .dataframe thead th {\n",
       "        text-align: right;\n",
       "    }\n",
       "</style>\n",
       "<table border=\"1\" class=\"dataframe\">\n",
       "  <thead>\n",
       "    <tr style=\"text-align: right;\">\n",
       "      <th></th>\n",
       "      <th>year_week</th>\n",
       "      <th>vegetable</th>\n",
       "      <th>sales</th>\n",
       "    </tr>\n",
       "  </thead>\n",
       "  <tbody>\n",
       "    <tr>\n",
       "      <th>0</th>\n",
       "      <td>202001</td>\n",
       "      <td>Tomate</td>\n",
       "      <td>489</td>\n",
       "    </tr>\n",
       "    <tr>\n",
       "      <th>1</th>\n",
       "      <td>202001</td>\n",
       "      <td>Peer</td>\n",
       "      <td>95</td>\n",
       "    </tr>\n",
       "    <tr>\n",
       "      <th>2</th>\n",
       "      <td>202001</td>\n",
       "      <td>Brussell Sprout</td>\n",
       "      <td>11</td>\n",
       "    </tr>\n",
       "    <tr>\n",
       "      <th>3</th>\n",
       "      <td>202002</td>\n",
       "      <td>Tomato</td>\n",
       "      <td>505</td>\n",
       "    </tr>\n",
       "    <tr>\n",
       "      <th>4</th>\n",
       "      <td>202002</td>\n",
       "      <td>Peer</td>\n",
       "      <td>99</td>\n",
       "    </tr>\n",
       "    <tr>\n",
       "      <th>...</th>\n",
       "      <td>...</td>\n",
       "      <td>...</td>\n",
       "      <td>...</td>\n",
       "    </tr>\n",
       "    <tr>\n",
       "      <th>622</th>\n",
       "      <td>202352</td>\n",
       "      <td>Pear</td>\n",
       "      <td>98</td>\n",
       "    </tr>\n",
       "    <tr>\n",
       "      <th>623</th>\n",
       "      <td>202352</td>\n",
       "      <td>Brusselsprout</td>\n",
       "      <td>11</td>\n",
       "    </tr>\n",
       "    <tr>\n",
       "      <th>624</th>\n",
       "      <td>202001</td>\n",
       "      <td>tomato</td>\n",
       "      <td>100</td>\n",
       "    </tr>\n",
       "    <tr>\n",
       "      <th>625</th>\n",
       "      <td>202001</td>\n",
       "      <td>tomato</td>\n",
       "      <td>100</td>\n",
       "    </tr>\n",
       "    <tr>\n",
       "      <th>626</th>\n",
       "      <td>202002</td>\n",
       "      <td>tomato</td>\n",
       "      <td>100</td>\n",
       "    </tr>\n",
       "  </tbody>\n",
       "</table>\n",
       "<p>627 rows × 3 columns</p>\n",
       "</div>"
      ]
     },
     "execution_count": 7,
     "metadata": {},
     "output_type": "execute_result"
    }
   ],
   "execution_count": 7
  },
  {
   "metadata": {
    "ExecuteTime": {
     "end_time": "2025-03-13T11:32:31.726081Z",
     "start_time": "2025-03-13T11:32:31.719890Z"
    }
   },
   "cell_type": "code",
   "source": [
    "occurance = data['vegetable'].value_counts()\n",
    "occurance"
   ],
   "id": "76c1ceb5d27bf6ef",
   "outputs": [
    {
     "data": {
      "text/plain": [
       "vegetable\n",
       "Brussell Sprout    61\n",
       "Poire              58\n",
       "Tomato             57\n",
       "Pear               57\n",
       "Brusel Sprout      55\n",
       "Tomate             52\n",
       "Tomatto            50\n",
       "tomaot             49\n",
       "Peer               47\n",
       "Brussel Sprout     47\n",
       "Pera               46\n",
       "Brusselsprout      45\n",
       "tomato              3\n",
       "Name: count, dtype: int64"
      ]
     },
     "execution_count": 9,
     "metadata": {},
     "output_type": "execute_result"
    }
   ],
   "execution_count": 9
  },
  {
   "metadata": {},
   "cell_type": "code",
   "source": [
    "def data_clean(data : str) -> (str, bool):\n",
    "    error_table = {\n",
    "        \"Tomate\": \"Tomato\",\n",
    "        \"Tomatto\": \"Tomato\",\n",
    "        \"tomaot\": \"Tomato\",\n",
    "        \"tomato\": \"Tomato\",\n",
    "        \"Poire\": \"Peer\",\n",
    "        \"Pera\": \"Peer\",\n",
    "        \"Brussell Sprout\" : \"Brussel Sprout\",\n",
    "        \"Brusselsprout\" : \"Brussel Sprout\",\n",
    "        \"Brusel Sprout\" : \"Brussel Sprout\",\n",
    "    }\n",
    "\n",
    "    if data in error_table.keys():\n",
    "        return error_table[data], True\n",
    "    return data, False"
   ],
   "id": "341b0088ae180fd2",
   "outputs": [],
   "execution_count": null
  }
 ],
 "metadata": {
  "kernelspec": {
   "display_name": "Python 3",
   "language": "python",
   "name": "python3"
  },
  "language_info": {
   "codemirror_mode": {
    "name": "ipython",
    "version": 2
   },
   "file_extension": ".py",
   "mimetype": "text/x-python",
   "name": "python",
   "nbconvert_exporter": "python",
   "pygments_lexer": "ipython2",
   "version": "2.7.6"
  }
 },
 "nbformat": 4,
 "nbformat_minor": 5
}
