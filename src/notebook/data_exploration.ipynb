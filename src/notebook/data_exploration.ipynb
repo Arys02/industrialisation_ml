{
 "cells": [
  {
   "metadata": {
    "ExecuteTime": {
     "end_time": "2025-04-09T14:38:29.790410Z",
     "start_time": "2025-04-09T14:38:29.675634Z"
    }
   },
   "cell_type": "code",
   "source": [
    "\n",
    "from src.config import RAW_DATA_DIR\n"
   ],
   "id": "9bc1cf882ef45e2",
   "outputs": [
    {
     "name": "stderr",
     "output_type": "stream",
     "text": [
      "\u001B[32m2025-04-09 16:38:29.788\u001B[0m | \u001B[1mINFO    \u001B[0m | \u001B[36msrc.config\u001B[0m:\u001B[36m<module>\u001B[0m:\u001B[36m10\u001B[0m - \u001B[1mPROJ_ROOT path is: /home/arys/projects/ml_industrielisation\u001B[0m\n"
     ]
    }
   ],
   "execution_count": 4
  },
  {
   "cell_type": "code",
   "id": "initial_id",
   "metadata": {
    "collapsed": true,
    "ExecuteTime": {
     "end_time": "2025-04-09T14:38:42.564906Z",
     "start_time": "2025-04-09T14:38:42.561576Z"
    }
   },
   "source": [
    "config = {\n",
    "    \"data\": {\n",
    "        \"sales\": RAW_DATA_DIR/\"sales.csv\",\n",
    "    },\n",
    "    \"start_test\": \"2023-07-01\",\n",
    "    \"model\": \"SameMonthLastYearSales\",\n",
    "}"
   ],
   "outputs": [],
   "execution_count": 5
  },
  {
   "metadata": {
    "ExecuteTime": {
     "end_time": "2025-04-09T14:38:43.338997Z",
     "start_time": "2025-04-09T14:38:43.335571Z"
    }
   },
   "cell_type": "code",
   "source": "import pandas as pd",
   "id": "7c7c822a16ee2cb6",
   "outputs": [],
   "execution_count": 6
  },
  {
   "metadata": {
    "ExecuteTime": {
     "end_time": "2025-04-09T14:59:00.115165Z",
     "start_time": "2025-04-09T14:59:00.109543Z"
    }
   },
   "cell_type": "code",
   "source": "df_sales = pd.read_csv(config[\"data\"][\"sales\"])",
   "id": "ccb272bda18a1887",
   "outputs": [],
   "execution_count": 39
  },
  {
   "metadata": {
    "ExecuteTime": {
     "end_time": "2025-04-09T14:59:00.343655Z",
     "start_time": "2025-04-09T14:59:00.335825Z"
    }
   },
   "cell_type": "code",
   "source": "df_sales.head()",
   "id": "baa38310c91314cc",
   "outputs": [
    {
     "data": {
      "text/plain": [
       "        dates item_id        sales\n",
       "0  2019-10-01  item_0  3134.441857\n",
       "1  2019-11-01  item_0  3354.163648\n",
       "2  2019-12-01  item_0  4436.384341\n",
       "3  2020-01-01  item_0  6180.406427\n",
       "4  2020-02-01  item_0  5349.843337"
      ],
      "text/html": [
       "<div>\n",
       "<style scoped>\n",
       "    .dataframe tbody tr th:only-of-type {\n",
       "        vertical-align: middle;\n",
       "    }\n",
       "\n",
       "    .dataframe tbody tr th {\n",
       "        vertical-align: top;\n",
       "    }\n",
       "\n",
       "    .dataframe thead th {\n",
       "        text-align: right;\n",
       "    }\n",
       "</style>\n",
       "<table border=\"1\" class=\"dataframe\">\n",
       "  <thead>\n",
       "    <tr style=\"text-align: right;\">\n",
       "      <th></th>\n",
       "      <th>dates</th>\n",
       "      <th>item_id</th>\n",
       "      <th>sales</th>\n",
       "    </tr>\n",
       "  </thead>\n",
       "  <tbody>\n",
       "    <tr>\n",
       "      <th>0</th>\n",
       "      <td>2019-10-01</td>\n",
       "      <td>item_0</td>\n",
       "      <td>3134.441857</td>\n",
       "    </tr>\n",
       "    <tr>\n",
       "      <th>1</th>\n",
       "      <td>2019-11-01</td>\n",
       "      <td>item_0</td>\n",
       "      <td>3354.163648</td>\n",
       "    </tr>\n",
       "    <tr>\n",
       "      <th>2</th>\n",
       "      <td>2019-12-01</td>\n",
       "      <td>item_0</td>\n",
       "      <td>4436.384341</td>\n",
       "    </tr>\n",
       "    <tr>\n",
       "      <th>3</th>\n",
       "      <td>2020-01-01</td>\n",
       "      <td>item_0</td>\n",
       "      <td>6180.406427</td>\n",
       "    </tr>\n",
       "    <tr>\n",
       "      <th>4</th>\n",
       "      <td>2020-02-01</td>\n",
       "      <td>item_0</td>\n",
       "      <td>5349.843337</td>\n",
       "    </tr>\n",
       "  </tbody>\n",
       "</table>\n",
       "</div>"
      ]
     },
     "execution_count": 40,
     "metadata": {},
     "output_type": "execute_result"
    }
   ],
   "execution_count": 40
  },
  {
   "metadata": {
    "ExecuteTime": {
     "end_time": "2025-04-09T14:59:00.691610Z",
     "start_time": "2025-04-09T14:59:00.685512Z"
    }
   },
   "cell_type": "code",
   "source": "df_sales.groupby(\"item_id\")",
   "id": "91092294aead6f37",
   "outputs": [
    {
     "data": {
      "text/plain": [
       "<pandas.core.groupby.generic.DataFrameGroupBy object at 0x7f2c5a72ef20>"
      ]
     },
     "execution_count": 41,
     "metadata": {},
     "output_type": "execute_result"
    }
   ],
   "execution_count": 41
  },
  {
   "metadata": {
    "ExecuteTime": {
     "end_time": "2025-04-09T14:59:01.552900Z",
     "start_time": "2025-04-09T14:59:01.548694Z"
    }
   },
   "cell_type": "code",
   "source": "df_sales[\"prediction\"] = df_sales[\"sales\"].shift(1)",
   "id": "1cc202cb29f9e88f",
   "outputs": [],
   "execution_count": 42
  },
  {
   "metadata": {
    "ExecuteTime": {
     "end_time": "2025-04-09T14:59:02.109941Z",
     "start_time": "2025-04-09T14:59:02.105183Z"
    }
   },
   "cell_type": "code",
   "source": "df_sales[\"pred2\"] = df_sales.groupby(\"item_id\")[\"sales\"].shift(1)",
   "id": "83abcc9ccc0970e4",
   "outputs": [],
   "execution_count": 43
  },
  {
   "metadata": {
    "ExecuteTime": {
     "end_time": "2025-04-09T14:59:40.955789Z",
     "start_time": "2025-04-09T14:59:40.940718Z"
    }
   },
   "cell_type": "code",
   "source": "df_sales.head(200)",
   "id": "85ba06c61dc178f8",
   "outputs": [
    {
     "data": {
      "text/plain": [
       "          dates item_id        sales   prediction        pred2\n",
       "0    2019-10-01  item_0  3134.441857          NaN          NaN\n",
       "1    2019-11-01  item_0  3354.163648  3134.441857  3134.441857\n",
       "2    2019-12-01  item_0  4436.384341  3354.163648  3354.163648\n",
       "3    2020-01-01  item_0  6180.406427  4436.384341  4436.384341\n",
       "4    2020-02-01  item_0  5349.843337  6180.406427  6180.406427\n",
       "..          ...     ...          ...          ...          ...\n",
       "195  2023-04-01  item_3  4336.870844  5244.157780  5244.157780\n",
       "196  2023-05-01  item_3  5019.519683  4336.870844  4336.870844\n",
       "197  2023-06-01  item_3  5874.459044  5019.519683  5019.519683\n",
       "198  2023-07-01  item_3  4909.853204  5874.459044  5874.459044\n",
       "199  2023-08-01  item_3  3484.185653  4909.853204  4909.853204\n",
       "\n",
       "[200 rows x 5 columns]"
      ],
      "text/html": [
       "<div>\n",
       "<style scoped>\n",
       "    .dataframe tbody tr th:only-of-type {\n",
       "        vertical-align: middle;\n",
       "    }\n",
       "\n",
       "    .dataframe tbody tr th {\n",
       "        vertical-align: top;\n",
       "    }\n",
       "\n",
       "    .dataframe thead th {\n",
       "        text-align: right;\n",
       "    }\n",
       "</style>\n",
       "<table border=\"1\" class=\"dataframe\">\n",
       "  <thead>\n",
       "    <tr style=\"text-align: right;\">\n",
       "      <th></th>\n",
       "      <th>dates</th>\n",
       "      <th>item_id</th>\n",
       "      <th>sales</th>\n",
       "      <th>prediction</th>\n",
       "      <th>pred2</th>\n",
       "    </tr>\n",
       "  </thead>\n",
       "  <tbody>\n",
       "    <tr>\n",
       "      <th>0</th>\n",
       "      <td>2019-10-01</td>\n",
       "      <td>item_0</td>\n",
       "      <td>3134.441857</td>\n",
       "      <td>NaN</td>\n",
       "      <td>NaN</td>\n",
       "    </tr>\n",
       "    <tr>\n",
       "      <th>1</th>\n",
       "      <td>2019-11-01</td>\n",
       "      <td>item_0</td>\n",
       "      <td>3354.163648</td>\n",
       "      <td>3134.441857</td>\n",
       "      <td>3134.441857</td>\n",
       "    </tr>\n",
       "    <tr>\n",
       "      <th>2</th>\n",
       "      <td>2019-12-01</td>\n",
       "      <td>item_0</td>\n",
       "      <td>4436.384341</td>\n",
       "      <td>3354.163648</td>\n",
       "      <td>3354.163648</td>\n",
       "    </tr>\n",
       "    <tr>\n",
       "      <th>3</th>\n",
       "      <td>2020-01-01</td>\n",
       "      <td>item_0</td>\n",
       "      <td>6180.406427</td>\n",
       "      <td>4436.384341</td>\n",
       "      <td>4436.384341</td>\n",
       "    </tr>\n",
       "    <tr>\n",
       "      <th>4</th>\n",
       "      <td>2020-02-01</td>\n",
       "      <td>item_0</td>\n",
       "      <td>5349.843337</td>\n",
       "      <td>6180.406427</td>\n",
       "      <td>6180.406427</td>\n",
       "    </tr>\n",
       "    <tr>\n",
       "      <th>...</th>\n",
       "      <td>...</td>\n",
       "      <td>...</td>\n",
       "      <td>...</td>\n",
       "      <td>...</td>\n",
       "      <td>...</td>\n",
       "    </tr>\n",
       "    <tr>\n",
       "      <th>195</th>\n",
       "      <td>2023-04-01</td>\n",
       "      <td>item_3</td>\n",
       "      <td>4336.870844</td>\n",
       "      <td>5244.157780</td>\n",
       "      <td>5244.157780</td>\n",
       "    </tr>\n",
       "    <tr>\n",
       "      <th>196</th>\n",
       "      <td>2023-05-01</td>\n",
       "      <td>item_3</td>\n",
       "      <td>5019.519683</td>\n",
       "      <td>4336.870844</td>\n",
       "      <td>4336.870844</td>\n",
       "    </tr>\n",
       "    <tr>\n",
       "      <th>197</th>\n",
       "      <td>2023-06-01</td>\n",
       "      <td>item_3</td>\n",
       "      <td>5874.459044</td>\n",
       "      <td>5019.519683</td>\n",
       "      <td>5019.519683</td>\n",
       "    </tr>\n",
       "    <tr>\n",
       "      <th>198</th>\n",
       "      <td>2023-07-01</td>\n",
       "      <td>item_3</td>\n",
       "      <td>4909.853204</td>\n",
       "      <td>5874.459044</td>\n",
       "      <td>5874.459044</td>\n",
       "    </tr>\n",
       "    <tr>\n",
       "      <th>199</th>\n",
       "      <td>2023-08-01</td>\n",
       "      <td>item_3</td>\n",
       "      <td>3484.185653</td>\n",
       "      <td>4909.853204</td>\n",
       "      <td>4909.853204</td>\n",
       "    </tr>\n",
       "  </tbody>\n",
       "</table>\n",
       "<p>200 rows × 5 columns</p>\n",
       "</div>"
      ]
     },
     "execution_count": 47,
     "metadata": {},
     "output_type": "execute_result"
    }
   ],
   "execution_count": 47
  },
  {
   "metadata": {},
   "cell_type": "code",
   "outputs": [],
   "execution_count": null,
   "source": "",
   "id": "a638d6e91ae9d346"
  }
 ],
 "metadata": {
  "kernelspec": {
   "display_name": "Python 3",
   "language": "python",
   "name": "python3"
  },
  "language_info": {
   "codemirror_mode": {
    "name": "ipython",
    "version": 2
   },
   "file_extension": ".py",
   "mimetype": "text/x-python",
   "name": "python",
   "nbconvert_exporter": "python",
   "pygments_lexer": "ipython2",
   "version": "2.7.6"
  }
 },
 "nbformat": 4,
 "nbformat_minor": 5
}
